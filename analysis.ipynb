{
 "cells": [
  {
   "cell_type": "code",
   "execution_count": 4,
   "id": "ae2f71a4",
   "metadata": {},
   "outputs": [
    {
     "name": "stdout",
     "output_type": "stream",
     "text": [
      "     Districts  Efficiently corn PI  Efficiently rice PI  Efficiently wheat PI\n",
      "0  24 Parganas             1.004780             1.000104              0.993122\n",
      "1     Adilabad             1.382923             0.892350              0.428776\n",
      "2         Agra             0.731220             0.757082              1.019908\n",
      "3    Ahmedabad             0.676787             1.024121              0.983348\n",
      "4   Ahmednagar             1.332183             0.557364              0.866900\n"
     ]
    }
   ],
   "source": [
    "# import pandas library as pd\n",
    "# import my excel file with the sheet named final data and I print the 5 first rows\n",
    "import pandas as pd \n",
    "df=pd.read_excel(\"Analysis.xlsx\", sheet_name=\"final data\")\n",
    "print(df.head())"
   ]
  },
  {
   "cell_type": "code",
   "execution_count": 5,
   "id": "abe64016",
   "metadata": {},
   "outputs": [
    {
     "name": "stdout",
     "output_type": "stream",
     "text": [
      "                  Districts  Efficiently corn PI  Efficiently rice PI  \\\n",
      "5                     Ajmer             0.475495             0.766080   \n",
      "11                    Alwar             0.406222             0.488772   \n",
      "14                   Amreli             0.397086             1.000000   \n",
      "28                Barabanki             0.358849             0.885668   \n",
      "39                Bharatpur             0.317956             0.457512   \n",
      "42                Bhavnagar             0.471623             0.572476   \n",
      "59                   Cachar             0.461216             1.000536   \n",
      "97                 Faizabad             0.494961             0.908746   \n",
      "101              Ganganagar             0.451002             0.917629   \n",
      "107                   Gonda             0.469654             0.899176   \n",
      "108               Gorakhpur             0.486578             0.879501   \n",
      "114                 Gwalior             0.495162             0.800613   \n",
      "119                  Hissar             0.000000             0.792796   \n",
      "127                  Jaipur             0.359509             0.318181   \n",
      "134                Jamnagar             0.420411             1.000000   \n",
      "138                  Jhansi             0.489712             0.597195   \n",
      "153                  Karnal             0.383611             0.810727   \n",
      "159                   Kheri             0.397554             0.865561   \n",
      "175                 Lucknow             0.464916             0.845921   \n",
      "179  Mahendragarh / Narnaul             0.000000             0.587058   \n",
      "193                 Mirzpur             0.450087             0.994016   \n",
      "198           Muzaffarnagar             0.428731             0.743426   \n",
      "237                  Rajkot             0.405605             1.000000   \n",
      "270                   Sikar             0.422451             1.000000   \n",
      "274                 Sitapur             0.362187             0.838324   \n",
      "284          Swami Madhopur             0.445490             0.435728   \n",
      "294                    Tonk             0.419190             0.464872   \n",
      "\n",
      "     Efficiently wheat PI  \n",
      "5                1.466114  \n",
      "11               1.023596  \n",
      "14               1.030774  \n",
      "28               1.147414  \n",
      "39               1.006419  \n",
      "42               1.029104  \n",
      "59               0.560727  \n",
      "97               1.094320  \n",
      "101              1.006000  \n",
      "107              1.224270  \n",
      "108              1.119221  \n",
      "114              1.069258  \n",
      "119              1.052257  \n",
      "127              1.014778  \n",
      "134              1.034506  \n",
      "138              1.072736  \n",
      "153              1.182076  \n",
      "159              1.154990  \n",
      "175              1.106809  \n",
      "179              1.019441  \n",
      "193              1.063529  \n",
      "198              1.063256  \n",
      "237              1.008291  \n",
      "270              1.000135  \n",
      "274              1.160811  \n",
      "284              1.013639  \n",
      "294              1.128045  \n"
     ]
    }
   ],
   "source": [
    "#filter the data to see only the productivity index of corn < 0.5\n",
    "filtered_data_corn= df[df[\"Efficiently corn PI\"] < 0.5]\n",
    "print(filtered_data_corn)"
   ]
  },
  {
   "cell_type": "code",
   "execution_count": 6,
   "id": "fb0d8bc0",
   "metadata": {},
   "outputs": [
    {
     "name": "stdout",
     "output_type": "stream",
     "text": [
      "                 Districts  Efficiently corn PI  Efficiently rice PI  \\\n",
      "6                    Akola             1.254524             0.352945   \n",
      "11                   Alwar             0.406222             0.488772   \n",
      "12               Amarawati             1.422571             0.400711   \n",
      "17              Aurangabad             1.086848             0.231409   \n",
      "23             Banaskantha             0.722389             0.419224   \n",
      "27                Banswara             0.868141             0.453185   \n",
      "33                    Beed             1.042022             0.416458   \n",
      "39               Bharatpur             0.317956             0.457512   \n",
      "65              Chhatarpur             0.608033             0.340801   \n",
      "66              Chhindwara             1.182664             0.409430   \n",
      "84                   Dewas             0.651974             0.225969   \n",
      "86                    Dhar             0.840590             0.236205   \n",
      "89                   Dhule             1.183103             0.499217   \n",
      "127                 Jaipur             0.359509             0.318181   \n",
      "130                 Jalaun             0.798326             0.405013   \n",
      "131                Jalgaon             1.113330             0.386103   \n",
      "136                 Jhabua             0.959206             0.342903   \n",
      "139              Jhunjhunu             1.000000             0.488051   \n",
      "156   Khandwa / East Nimar             1.157154             0.374954   \n",
      "157  Khargone / West Nimar             0.885887             0.197123   \n",
      "213              Osmanabad             1.082565             0.455876   \n",
      "219               Parbhani             0.838719             0.364276   \n",
      "236                Rajgarh             0.706801             0.349450   \n",
      "241                 Ratlam             0.807241             0.245506   \n",
      "248                  Sagar             0.849549             0.372814   \n",
      "264               Shajapur             0.667891             0.223962   \n",
      "276                Solapur             1.256358             0.441321   \n",
      "284         Swami Madhopur             0.445490             0.435728   \n",
      "292              Tikamgarh             0.562117             0.281840   \n",
      "294                   Tonk             0.419190             0.464872   \n",
      "307                 Wardha             0.825446             0.485831   \n",
      "\n",
      "     Efficiently wheat PI  \n",
      "6                0.997016  \n",
      "11               1.023596  \n",
      "12               1.092817  \n",
      "17               0.766772  \n",
      "23               1.040391  \n",
      "27               1.408291  \n",
      "33               1.004248  \n",
      "39               1.006419  \n",
      "65               1.057222  \n",
      "66               0.937155  \n",
      "84               1.038382  \n",
      "86               1.074104  \n",
      "89               0.994469  \n",
      "127              1.014778  \n",
      "130              1.003131  \n",
      "131              0.777398  \n",
      "136              1.414132  \n",
      "139              1.000175  \n",
      "156              1.054252  \n",
      "157              1.101102  \n",
      "213              1.178225  \n",
      "219              1.093077  \n",
      "236              1.161057  \n",
      "241              1.159829  \n",
      "248              1.027552  \n",
      "264              1.133203  \n",
      "276              0.821942  \n",
      "284              1.013639  \n",
      "292              1.107730  \n",
      "294              1.128045  \n",
      "307              1.004812  \n"
     ]
    }
   ],
   "source": [
    "##filter the data to see only the productivity index of rice < 0.5\n",
    "filtered_data_rice= df[df[\"Efficiently rice PI\"] < 0.5]\n",
    "print(filtered_data_rice)\n"
   ]
  },
  {
   "cell_type": "code",
   "execution_count": 7,
   "id": "e4d93d65",
   "metadata": {},
   "outputs": [
    {
     "name": "stdout",
     "output_type": "stream",
     "text": [
      "                 Districts  Efficiently corn PI  Efficiently rice PI  \\\n",
      "1                 Adilabad             1.382923             0.892350   \n",
      "16              Ananthapur             1.294322             0.897256   \n",
      "25               Bangalore             1.171725             0.814677   \n",
      "35                 Bellary             0.874846             1.109832   \n",
      "46    Bijapur / Vijayapura             1.384692             1.127398   \n",
      "68             Chitradurga             0.930312             1.146893   \n",
      "87                 Dharwad             1.344665             0.680960   \n",
      "109  Gulbarga / Kalaburagi             1.048188             1.115531   \n",
      "111                 Guntur             2.052726             0.818930   \n",
      "124              Hyderabad             1.097457             0.927774   \n",
      "143             Kadapa YSR             2.448287             0.961487   \n",
      "152             Karimnagar             1.188077             0.921213   \n",
      "162                  Kolar             1.027509             0.897769   \n",
      "171                Kurnool             1.404506             0.918140   \n",
      "178           Mahabubnagar             0.922746             1.066900   \n",
      "186                 Mandya             0.785073             1.012364   \n",
      "189                  Medak             0.943596             1.070856   \n",
      "200                 Mysore             0.997220             1.002917   \n",
      "206               Nalgonda             0.796585             1.002421   \n",
      "210              Nizamabad             1.220872             0.922000   \n",
      "231                Raichur             0.880231             1.059147   \n",
      "232                 Raigad             1.018693             0.999996   \n",
      "286                  Thane             1.050158             1.000287   \n",
      "295                 Tumkur             0.908145             1.071951   \n",
      "306               Warangal             1.289000             0.885664   \n",
      "309          West Godavari             1.750202             0.927094   \n",
      "\n",
      "     Efficiently wheat PI  \n",
      "1                0.428776  \n",
      "16               0.294119  \n",
      "25               0.385626  \n",
      "35               0.328717  \n",
      "46               0.435105  \n",
      "68               0.343693  \n",
      "87               0.309193  \n",
      "109              0.468730  \n",
      "111              0.289231  \n",
      "124              0.292548  \n",
      "143              0.256127  \n",
      "152              0.202281  \n",
      "162              0.367394  \n",
      "171              0.181008  \n",
      "178              0.306084  \n",
      "186              0.267558  \n",
      "189              0.343030  \n",
      "200              0.209361  \n",
      "206              0.322752  \n",
      "210              0.292030  \n",
      "231              0.160952  \n",
      "232              0.393698  \n",
      "286              0.484166  \n",
      "295              0.396611  \n",
      "306              0.225101  \n",
      "309              0.256074  \n"
     ]
    }
   ],
   "source": [
    "#filter the data to see only the productivity index of wheat < 0.5\n",
    "filtered_data_wheat= df[df[\"Efficiently wheat PI\"] < 0.5]\n",
    "print(filtered_data_wheat)"
   ]
  },
  {
   "cell_type": "code",
   "execution_count": null,
   "id": "49c15aaa",
   "metadata": {},
   "outputs": [
    {
     "name": "stdout",
     "output_type": "stream",
     "text": [
      "         Districts  Efficiently corn PI  Efficiently rice PI  \\\n",
      "1         Adilabad             1.382923             0.892350   \n",
      "5            Ajmer             0.475495             0.766080   \n",
      "6            Akola             1.254524             0.352945   \n",
      "11           Alwar             0.406222             0.488772   \n",
      "12       Amarawati             1.422571             0.400711   \n",
      "..             ...                  ...                  ...   \n",
      "294           Tonk             0.419190             0.464872   \n",
      "295         Tumkur             0.908145             1.071951   \n",
      "306       Warangal             1.289000             0.885664   \n",
      "307         Wardha             0.825446             0.485831   \n",
      "309  West Godavari             1.750202             0.927094   \n",
      "\n",
      "     Efficiently wheat PI  \n",
      "1                0.428776  \n",
      "5                1.466114  \n",
      "6                0.997016  \n",
      "11               1.023596  \n",
      "12               1.092817  \n",
      "..                    ...  \n",
      "294              1.128045  \n",
      "295              0.396611  \n",
      "306              0.225101  \n",
      "307              1.004812  \n",
      "309              0.256074  \n",
      "\n",
      "[79 rows x 4 columns]\n"
     ]
    }
   ],
   "source": [
    "# Here I filtered data by using a function that shows the districts with PI of crops < 0.5\n",
    "def filter_low_PI(df):\n",
    "    return df[(df['Efficiently corn PI']< 0.5) | (df['Efficiently rice PI']<0.5) | (df['Efficiently wheat PI']<0.5)]\n",
    "district_target= filter_low_PI(df)\n",
    "print(district_target)"
   ]
  },
  {
   "cell_type": "code",
   "execution_count": 93,
   "id": "deabcc90",
   "metadata": {},
   "outputs": [
    {
     "name": "stdout",
     "output_type": "stream",
     "text": [
      "['Adilabad', 'Ajmer', 'Akola', 'Alwar', 'Amarawati', 'Amreli', 'Ananthapur', 'Aurangabad', 'Banaskantha', 'Bangalore', 'Banswara', 'Barabanki', 'Beed', 'Bellary', 'Bharatpur', 'Bhavnagar', 'Bijapur / Vijayapura', 'Cachar', 'Chhatarpur', 'Chhindwara', 'Chitradurga', 'Dewas', 'Dhar', 'Dharwad', 'Dhule', 'Faizabad', 'Ganganagar', 'Gonda', 'Gorakhpur', 'Gulbarga / Kalaburagi', 'Guntur', 'Gwalior', 'Hissar', 'Hyderabad', 'Jaipur', 'Jalaun', 'Jalgaon', 'Jamnagar', 'Jhabua', 'Jhansi', 'Jhunjhunu', 'Kadapa YSR', 'Karimnagar', 'Karnal', 'Khandwa / East Nimar', 'Khargone / West Nimar', 'Kheri', 'Kolar', 'Kurnool', 'Lucknow', 'Mahabubnagar', 'Mahendragarh / Narnaul', 'Mandya', 'Medak', 'Mirzpur', 'Muzaffarnagar', 'Mysore', 'Nalgonda', 'Nizamabad', 'Osmanabad', 'Parbhani', 'Raichur', 'Raigad', 'Rajgarh', 'Rajkot', 'Ratlam', 'Sagar', 'Shajapur', 'Sikar', 'Sitapur', 'Solapur', 'Swami Madhopur', 'Thane', 'Tikamgarh', 'Tonk', 'Tumkur', 'Warangal', 'Wardha', 'West Godavari']\n",
      "the number of target districts: 79\n"
     ]
    },
    {
     "data": {
      "text/plain": [
       "['Adilabad',\n",
       " 'Ajmer',\n",
       " 'Akola',\n",
       " 'Alwar',\n",
       " 'Amarawati',\n",
       " 'Amreli',\n",
       " 'Ananthapur',\n",
       " 'Aurangabad',\n",
       " 'Banaskantha',\n",
       " 'Bangalore',\n",
       " 'Banswara',\n",
       " 'Barabanki',\n",
       " 'Beed',\n",
       " 'Bellary',\n",
       " 'Bharatpur',\n",
       " 'Bhavnagar',\n",
       " 'Bijapur / Vijayapura',\n",
       " 'Cachar',\n",
       " 'Chhatarpur',\n",
       " 'Chhindwara',\n",
       " 'Chitradurga',\n",
       " 'Dewas',\n",
       " 'Dhar',\n",
       " 'Dharwad',\n",
       " 'Dhule',\n",
       " 'Faizabad',\n",
       " 'Ganganagar',\n",
       " 'Gonda',\n",
       " 'Gorakhpur',\n",
       " 'Gulbarga / Kalaburagi',\n",
       " 'Guntur',\n",
       " 'Gwalior',\n",
       " 'Hissar',\n",
       " 'Hyderabad',\n",
       " 'Jaipur',\n",
       " 'Jalaun',\n",
       " 'Jalgaon',\n",
       " 'Jamnagar',\n",
       " 'Jhabua',\n",
       " 'Jhansi',\n",
       " 'Jhunjhunu',\n",
       " 'Kadapa YSR',\n",
       " 'Karimnagar',\n",
       " 'Karnal',\n",
       " 'Khandwa / East Nimar',\n",
       " 'Khargone / West Nimar',\n",
       " 'Kheri',\n",
       " 'Kolar',\n",
       " 'Kurnool',\n",
       " 'Lucknow',\n",
       " 'Mahabubnagar',\n",
       " 'Mahendragarh / Narnaul',\n",
       " 'Mandya',\n",
       " 'Medak',\n",
       " 'Mirzpur',\n",
       " 'Muzaffarnagar',\n",
       " 'Mysore',\n",
       " 'Nalgonda',\n",
       " 'Nizamabad',\n",
       " 'Osmanabad',\n",
       " 'Parbhani',\n",
       " 'Raichur',\n",
       " 'Raigad',\n",
       " 'Rajgarh',\n",
       " 'Rajkot',\n",
       " 'Ratlam',\n",
       " 'Sagar',\n",
       " 'Shajapur',\n",
       " 'Sikar',\n",
       " 'Sitapur',\n",
       " 'Solapur',\n",
       " 'Swami Madhopur',\n",
       " 'Thane',\n",
       " 'Tikamgarh',\n",
       " 'Tonk',\n",
       " 'Tumkur',\n",
       " 'Warangal',\n",
       " 'Wardha',\n",
       " 'West Godavari']"
      ]
     },
     "execution_count": 93,
     "metadata": {},
     "output_type": "execute_result"
    }
   ],
   "source": [
    "#buit function to transform the districts collumns into a regular python list \n",
    "def creat_list (district_target):\n",
    "    my_list= []\n",
    "    for index, row in district_target.iterrows():\n",
    "        district = row[\"Districts\"]\n",
    "        corn = row[\"Efficiently corn PI\"]\n",
    "        rice = row[\"Efficiently rice PI\"]\n",
    "        wheat = row[\"Efficiently wheat PI\"]\n",
    "        if corn!=0 or rice !=0 or wheat!=0:\n",
    "            my_list.append (district)\n",
    "    return my_list\n",
    "my_blist= creat_list ( district_target)\n",
    "print(my_blist)\n",
    "print(f\"the number of target districts:\" ,len(my_blist ))\n",
    "# I found that there is a built in function to do this in one line with the method .tolist()\n",
    "district_target['Districts'].tolist()"
   ]
  },
  {
   "cell_type": "code",
   "execution_count": null,
   "id": "d627446e",
   "metadata": {},
   "outputs": [
    {
     "name": "stdout",
     "output_type": "stream",
     "text": [
      "<class 'pandas.core.series.Series'>\n"
     ]
    }
   ],
   "source": [
    "#used type() to see the class \n",
    "print(type(df[\"Efficiently corn PI\"]))"
   ]
  },
  {
   "cell_type": "code",
   "execution_count": null,
   "id": "874b50fc",
   "metadata": {},
   "outputs": [
    {
     "data": {
      "text/html": [
       "<div>\n",
       "<style scoped>\n",
       "    .dataframe tbody tr th:only-of-type {\n",
       "        vertical-align: middle;\n",
       "    }\n",
       "\n",
       "    .dataframe tbody tr th {\n",
       "        vertical-align: top;\n",
       "    }\n",
       "\n",
       "    .dataframe thead th {\n",
       "        text-align: right;\n",
       "    }\n",
       "</style>\n",
       "<table border=\"1\" class=\"dataframe\">\n",
       "  <thead>\n",
       "    <tr style=\"text-align: right;\">\n",
       "      <th></th>\n",
       "      <th>Districts</th>\n",
       "      <th>Efficiently corn PI</th>\n",
       "      <th>Efficiently rice PI</th>\n",
       "      <th>Efficiently wheat PI</th>\n",
       "    </tr>\n",
       "  </thead>\n",
       "  <tbody>\n",
       "    <tr>\n",
       "      <th>1</th>\n",
       "      <td>Adilabad</td>\n",
       "      <td>1.382923</td>\n",
       "      <td>0.892350</td>\n",
       "      <td>0.428776</td>\n",
       "    </tr>\n",
       "    <tr>\n",
       "      <th>5</th>\n",
       "      <td>Ajmer</td>\n",
       "      <td>0.475495</td>\n",
       "      <td>0.766080</td>\n",
       "      <td>1.466114</td>\n",
       "    </tr>\n",
       "    <tr>\n",
       "      <th>6</th>\n",
       "      <td>Akola</td>\n",
       "      <td>1.254524</td>\n",
       "      <td>0.352945</td>\n",
       "      <td>0.997016</td>\n",
       "    </tr>\n",
       "    <tr>\n",
       "      <th>11</th>\n",
       "      <td>Alwar</td>\n",
       "      <td>0.406222</td>\n",
       "      <td>0.488772</td>\n",
       "      <td>1.023596</td>\n",
       "    </tr>\n",
       "    <tr>\n",
       "      <th>12</th>\n",
       "      <td>Amarawati</td>\n",
       "      <td>1.422571</td>\n",
       "      <td>0.400711</td>\n",
       "      <td>1.092817</td>\n",
       "    </tr>\n",
       "  </tbody>\n",
       "</table>\n",
       "</div>"
      ],
      "text/plain": [
       "    Districts  Efficiently corn PI  Efficiently rice PI  Efficiently wheat PI\n",
       "1    Adilabad             1.382923             0.892350              0.428776\n",
       "5       Ajmer             0.475495             0.766080              1.466114\n",
       "6       Akola             1.254524             0.352945              0.997016\n",
       "11      Alwar             0.406222             0.488772              1.023596\n",
       "12  Amarawati             1.422571             0.400711              1.092817"
      ]
     },
     "execution_count": 81,
     "metadata": {},
     "output_type": "execute_result"
    }
   ],
   "source": [
    "#I displayed the 5 first rows of my district_target to facilitate my visualization\n",
    "district_target.head()"
   ]
  },
  {
   "cell_type": "code",
   "execution_count": null,
   "id": "515ff011",
   "metadata": {},
   "outputs": [
    {
     "data": {
      "text/plain": [
       "<Axes: title={'center': 'Inequality of PI by district'}, xlabel='Districts', ylabel='Districts'>"
      ]
     },
     "execution_count": 91,
     "metadata": {},
     "output_type": "execute_result"
    },
    {
     "data": {
      "image/png": "[encoded data removed]",
      "text/plain": [
       "<Figure size 640x480 with 1 Axes>"
      ]
     },
     "metadata": {},
     "output_type": "display_data"
    }
   ],
   "source": [
    "#making a chart with pandas. this chart shows only the 5 first districts and their productivity index\n",
    "#I made a horizontal bar plot and set the index to be the Districts. \n",
    "district_target.head().set_index('Districts').plot.barh(xlabel= \"Districts\" , title= \"Inequality of PI by district\")"
   ]
  }
 ],
 "metadata": {
  "kernelspec": {
   "display_name": "data-analysis-env",
   "language": "python",
   "name": "python3"
  },
  "language_info": {
   "codemirror_mode": {
    "name": "ipython",
    "version": 3
   },
   "file_extension": ".py",
   "mimetype": "text/x-python",
   "name": "python",
   "nbconvert_exporter": "python",
   "pygments_lexer": "ipython3",
   "version": "3.9.22"
  }
 },
 "nbformat": 4,
 "nbformat_minor": 5
}
